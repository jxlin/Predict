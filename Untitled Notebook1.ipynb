{
 "cells": [
  {
   "cell_type": "code",
   "execution_count": 1,
   "metadata": {
    "collapsed": true
   },
   "outputs": [],
   "source": [
    "import numpy as np\n",
    "import pandas as pd"
   ]
  },
  {
   "cell_type": "code",
   "execution_count": 2,
   "metadata": {
    "collapsed": true
   },
   "outputs": [],
   "source": [
    "import tensorflow as tf"
   ]
  },
  {
   "cell_type": "code",
   "execution_count": 3,
   "metadata": {
    "collapsed": true
   },
   "outputs": [],
   "source": [
    "d1 = pd.read_csv('TimeBasedFeatures-Dataset-15s.csv')"
   ]
  },
  {
   "cell_type": "code",
   "execution_count": 4,
   "metadata": {
    "collapsed": false
   },
   "outputs": [
    {
     "name": "stdout",
     "output_type": "stream",
     "text": [
      "<class 'pandas.core.frame.DataFrame'>\n",
      "RangeIndex: 18758 entries, 0 to 18757\n",
      "Data columns (total 24 columns):\n",
      "duration              18758 non-null int64\n",
      "total_fiat            18758 non-null int64\n",
      "total_biat            18758 non-null int64\n",
      "min_fiat              18758 non-null int64\n",
      "min_biat              18758 non-null int64\n",
      "max_fiat              18758 non-null float64\n",
      "max_biat              18758 non-null float64\n",
      "mean_fiat             18758 non-null float64\n",
      "mean_biat             18758 non-null float64\n",
      "flowPktsPerSecond     18758 non-null float64\n",
      "flowBytesPerSecond    18758 non-null float64\n",
      "min_flowiat           18758 non-null int64\n",
      "max_flowiat           18758 non-null int64\n",
      "mean_flowiat          18758 non-null float64\n",
      "std_flowiat           18758 non-null float64\n",
      "min_active            18758 non-null int64\n",
      "mean_active           18758 non-null float64\n",
      "max_active            18758 non-null int64\n",
      "std_active            18758 non-null float64\n",
      "min_idle              18758 non-null int64\n",
      "mean_idle             18758 non-null float64\n",
      "max_idle              18758 non-null int64\n",
      "std_idle              18758 non-null float64\n",
      "class1                18758 non-null object\n",
      "dtypes: float64(12), int64(11), object(1)\n",
      "memory usage: 3.4+ MB\n"
     ]
    }
   ],
   "source": [
    "d1.info()"
   ]
  },
  {
   "cell_type": "code",
   "execution_count": null,
   "metadata": {
    "collapsed": true
   },
   "outputs": [],
   "source": []
  }
 ],
 "metadata": {
  "kernelspec": {
   "display_name": "Python 2",
   "language": "python",
   "name": "python2"
  },
  "language_info": {
   "codemirror_mode": {
    "name": "ipython",
    "version": 2
   },
   "file_extension": ".py",
   "mimetype": "text/x-python",
   "name": "python",
   "nbconvert_exporter": "python",
   "pygments_lexer": "ipython2",
   "version": "2.7.9"
  }
 },
 "nbformat": 4,
 "nbformat_minor": 0
}
